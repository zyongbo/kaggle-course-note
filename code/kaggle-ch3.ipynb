{
 "cells": [
  {
   "cell_type": "code",
   "execution_count": 1,
   "metadata": {
    "ExecuteTime": {
     "end_time": "2020-08-01T06:09:50.715658Z",
     "start_time": "2020-08-01T06:09:50.566451Z"
    },
    "_cell_guid": "1952347b-6dc9-b9f1-fa25-94587a2aee77",
    "execution": {
     "iopub.execute_input": "2021-02-15T12:49:24.502677Z",
     "iopub.status.busy": "2021-02-15T12:49:24.501927Z",
     "iopub.status.idle": "2021-02-15T12:49:26.586398Z",
     "shell.execute_reply": "2021-02-15T12:49:26.587060Z"
    },
    "papermill": {
     "duration": 2.112765,
     "end_time": "2021-02-15T12:49:26.587259",
     "exception": false,
     "start_time": "2021-02-15T12:49:24.474494",
     "status": "completed"
    },
    "tags": []
   },
   "outputs": [],
   "source": [
    "import os\n",
    "import sys\n",
    "import operator\n",
    "import numpy as np\n",
    "import pandas as pd\n",
    "from scipy import sparse\n",
    "import xgboost as xgb\n",
    "from sklearn import model_selection, preprocessing\n",
    "from sklearn.metrics import log_loss\n",
    "from sklearn.feature_extraction.text import TfidfVectorizer, CountVectorizer"
   ]
  },
  {
   "cell_type": "markdown",
   "metadata": {
    "papermill": {
     "duration": 0.018356,
     "end_time": "2021-02-15T12:49:26.624860",
     "exception": false,
     "start_time": "2021-02-15T12:49:26.606504",
     "status": "completed"
    },
    "tags": []
   },
   "source": [
    "# 数据划分方法"
   ]
  },
  {
   "cell_type": "code",
   "execution_count": 2,
   "metadata": {
    "ExecuteTime": {
     "end_time": "2020-08-01T06:09:32.857807Z",
     "start_time": "2020-08-01T06:09:32.852852Z"
    },
    "execution": {
     "iopub.execute_input": "2021-02-15T12:49:26.666817Z",
     "iopub.status.busy": "2021-02-15T12:49:26.665746Z",
     "iopub.status.idle": "2021-02-15T12:49:26.672070Z",
     "shell.execute_reply": "2021-02-15T12:49:26.672596Z"
    },
    "papermill": {
     "duration": 0.029126,
     "end_time": "2021-02-15T12:49:26.672736",
     "exception": false,
     "start_time": "2021-02-15T12:49:26.643610",
     "status": "completed"
    },
    "tags": []
   },
   "outputs": [],
   "source": [
    "# hold-out\n",
    "from sklearn.model_selection import train_test_split\n",
    "\n",
    "# K折交叉验证\n",
    "from sklearn.model_selection import KFold\n",
    "from sklearn.model_selection import RepeatedKFold\n",
    "\n",
    "# K折分布保持交叉验证\n",
    "from sklearn.model_selection import StratifiedKFold\n",
    "from sklearn.model_selection import RepeatedStratifiedKFold\n",
    "\n",
    "# 时间序列划分方法\n",
    "from sklearn.model_selection import TimeSeriesSplit\n",
    "\n",
    "# booststrap 采样\n",
    "from sklearn.utils import resample"
   ]
  },
  {
   "cell_type": "code",
   "execution_count": 3,
   "metadata": {
    "ExecuteTime": {
     "end_time": "2020-08-01T06:19:05.573776Z",
     "start_time": "2020-08-01T06:19:05.566308Z"
    },
    "execution": {
     "iopub.execute_input": "2021-02-15T12:49:26.717820Z",
     "iopub.status.busy": "2021-02-15T12:49:26.716783Z",
     "iopub.status.idle": "2021-02-15T12:49:26.729361Z",
     "shell.execute_reply": "2021-02-15T12:49:26.729871Z"
    },
    "papermill": {
     "duration": 0.037565,
     "end_time": "2021-02-15T12:49:26.730048",
     "exception": false,
     "start_time": "2021-02-15T12:49:26.692483",
     "status": "completed"
    },
    "tags": []
   },
   "outputs": [
    {
     "name": "stdout",
     "output_type": "stream",
     "text": [
      "[[0. 0. 0. 0. 0.]\n",
      " [0. 0. 0. 0. 0.]\n",
      " [0. 0. 0. 0. 0.]\n",
      " [0. 0. 0. 0. 0.]\n",
      " [0. 0. 0. 0. 0.]\n",
      " [0. 0. 0. 0. 0.]\n",
      " [0. 0. 0. 0. 0.]\n",
      " [0. 0. 0. 0. 0.]\n",
      " [0. 0. 0. 0. 0.]\n",
      " [0. 0. 0. 0. 0.]\n",
      " [0. 0. 0. 0. 0.]\n",
      " [0. 0. 0. 0. 0.]\n",
      " [0. 0. 0. 0. 0.]\n",
      " [0. 0. 0. 0. 0.]\n",
      " [0. 0. 0. 0. 0.]\n",
      " [0. 0. 0. 0. 0.]\n",
      " [0. 0. 0. 0. 0.]\n",
      " [0. 0. 0. 0. 0.]\n",
      " [0. 0. 0. 0. 0.]\n",
      " [0. 0. 0. 0. 0.]] [1 1 1 1 1 2 2 2 2 2 3 3 3 3 3 4 4 4 4 4]\n"
     ]
    }
   ],
   "source": [
    "# X = np.zeros((20, 5))\n",
    "# Y = np.array([1, 2, 3, 4] * 5)\n",
    "# print(X, Y)\n",
    "\n",
    "X = np.zeros((20, 5))\n",
    "Y = np.array([1]*5 + [2]*5 + [3]*5 + [4]*5)\n",
    "print(X, Y)"
   ]
  },
  {
   "cell_type": "code",
   "execution_count": 4,
   "metadata": {
    "ExecuteTime": {
     "end_time": "2020-08-01T06:19:06.114108Z",
     "start_time": "2020-08-01T06:19:06.105176Z"
    },
    "execution": {
     "iopub.execute_input": "2021-02-15T12:49:26.777761Z",
     "iopub.status.busy": "2021-02-15T12:49:26.776014Z",
     "iopub.status.idle": "2021-02-15T12:49:26.788334Z",
     "shell.execute_reply": "2021-02-15T12:49:26.786713Z"
    },
    "papermill": {
     "duration": 0.038447,
     "end_time": "2021-02-15T12:49:26.788465",
     "exception": false,
     "start_time": "2021-02-15T12:49:26.750018",
     "status": "completed"
    },
    "tags": []
   },
   "outputs": [
    {
     "name": "stdout",
     "output_type": "stream",
     "text": [
      "[3 2 3 3 2 4 1 2 1 3 4 4 2 2 1 4] [4 1 1 3]\n",
      "[4 3 1 4 3 3 2 3 2 2 2 1 4 1 1 4] [4 2 3 1]\n"
     ]
    }
   ],
   "source": [
    "# 直接按照比例拆分\n",
    "train_X, val_X, train_y, val_y = train_test_split(X, Y, test_size = 0.2)\n",
    "print(train_y, val_y)\n",
    "\n",
    "# 按照比例 & 标签分布划分\n",
    "train_X, val_X, train_y, val_y = train_test_split(X, Y, test_size = 0.2, stratify=Y)\n",
    "print(train_y, val_y)"
   ]
  },
  {
   "cell_type": "code",
   "execution_count": 5,
   "metadata": {
    "ExecuteTime": {
     "end_time": "2020-08-01T06:19:07.876156Z",
     "start_time": "2020-08-01T06:19:07.865101Z"
    },
    "execution": {
     "iopub.execute_input": "2021-02-15T12:49:26.837023Z",
     "iopub.status.busy": "2021-02-15T12:49:26.835872Z",
     "iopub.status.idle": "2021-02-15T12:49:26.843396Z",
     "shell.execute_reply": "2021-02-15T12:49:26.842399Z"
    },
    "papermill": {
     "duration": 0.034917,
     "end_time": "2021-02-15T12:49:26.843555",
     "exception": false,
     "start_time": "2021-02-15T12:49:26.808638",
     "status": "completed"
    },
    "tags": []
   },
   "outputs": [
    {
     "name": "stdout",
     "output_type": "stream",
     "text": [
      "[ 4  5  6  7  8  9 10 11 12 13 14 15 16 17 18 19] [0 1 2 3]\n",
      "Label [1 1 1 1]\n",
      "\n",
      "[ 0  1  2  3  8  9 10 11 12 13 14 15 16 17 18 19] [4 5 6 7]\n",
      "Label [1 2 2 2]\n",
      "\n",
      "[ 0  1  2  3  4  5  6  7 12 13 14 15 16 17 18 19] [ 8  9 10 11]\n",
      "Label [2 2 3 3]\n",
      "\n",
      "[ 0  1  2  3  4  5  6  7  8  9 10 11 16 17 18 19] [12 13 14 15]\n",
      "Label [3 3 3 4]\n",
      "\n",
      "[ 0  1  2  3  4  5  6  7  8  9 10 11 12 13 14 15] [16 17 18 19]\n",
      "Label [4 4 4 4]\n",
      "\n"
     ]
    }
   ],
   "source": [
    "kf = KFold(n_splits=5)\n",
    "for train_idx, test_idx, in kf.split(X, Y):\n",
    "    print(train_idx, test_idx)\n",
    "    print('Label', Y[test_idx])\n",
    "    print('')"
   ]
  },
  {
   "cell_type": "code",
   "execution_count": 6,
   "metadata": {
    "ExecuteTime": {
     "end_time": "2020-08-01T06:20:46.058768Z",
     "start_time": "2020-08-01T06:20:46.04384Z"
    },
    "execution": {
     "iopub.execute_input": "2021-02-15T12:49:26.900134Z",
     "iopub.status.busy": "2021-02-15T12:49:26.899090Z",
     "iopub.status.idle": "2021-02-15T12:49:26.902768Z",
     "shell.execute_reply": "2021-02-15T12:49:26.903961Z"
    },
    "papermill": {
     "duration": 0.038742,
     "end_time": "2021-02-15T12:49:26.904396",
     "exception": false,
     "start_time": "2021-02-15T12:49:26.865654",
     "status": "completed"
    },
    "tags": []
   },
   "outputs": [
    {
     "name": "stdout",
     "output_type": "stream",
     "text": [
      "[ 1  2  3  4  5  6  7  8  9 10 11 12 15 16 17 19] [ 0 13 14 18]\n",
      "Label [1 3 3 4]\n",
      "\n",
      "[ 0  1  3  4  5  6  7  8 10 11 12 13 14 15 16 18] [ 2  9 17 19]\n",
      "Label [1 2 4 4]\n",
      "\n",
      "[ 0  2  3  4  6  7  8  9 10 12 13 14 16 17 18 19] [ 1  5 11 15]\n",
      "Label [1 2 3 4]\n",
      "\n",
      "[ 0  1  2  3  4  5  7  9 10 11 13 14 15 17 18 19] [ 6  8 12 16]\n",
      "Label [2 2 3 4]\n",
      "\n",
      "[ 0  1  2  5  6  8  9 11 12 13 14 15 16 17 18 19] [ 3  4  7 10]\n",
      "Label [1 1 2 3]\n",
      "\n",
      "[ 0  1  3  4  5  7  8  9 10 11 12 14 15 16 17 19] [ 2  6 13 18]\n",
      "Label [1 2 3 4]\n",
      "\n",
      "[ 0  1  2  4  6  7  8  9 10 12 13 14 15 16 17 18] [ 3  5 11 19]\n",
      "Label [1 2 3 4]\n",
      "\n",
      "[ 0  1  2  3  5  6  8  9 10 11 13 14 15 16 18 19] [ 4  7 12 17]\n",
      "Label [1 2 3 4]\n",
      "\n",
      "[ 0  2  3  4  5  6  7  8  9 11 12 13 14 17 18 19] [ 1 10 15 16]\n",
      "Label [1 3 4 4]\n",
      "\n",
      "[ 1  2  3  4  5  6  7 10 11 12 13 15 16 17 18 19] [ 0  8  9 14]\n",
      "Label [1 2 2 3]\n",
      "\n"
     ]
    }
   ],
   "source": [
    "kf = RepeatedKFold(n_splits=5, n_repeats=2)\n",
    "for train_idx, test_idx, in kf.split(X, Y):\n",
    "    print(train_idx, test_idx)\n",
    "    print('Label', Y[test_idx])\n",
    "    print('')"
   ]
  },
  {
   "cell_type": "code",
   "execution_count": 7,
   "metadata": {
    "ExecuteTime": {
     "end_time": "2020-08-01T06:19:25.836617Z",
     "start_time": "2020-08-01T06:19:25.824303Z"
    },
    "execution": {
     "iopub.execute_input": "2021-02-15T12:49:26.958177Z",
     "iopub.status.busy": "2021-02-15T12:49:26.955549Z",
     "iopub.status.idle": "2021-02-15T12:49:26.966515Z",
     "shell.execute_reply": "2021-02-15T12:49:26.967076Z"
    },
    "papermill": {
     "duration": 0.039663,
     "end_time": "2021-02-15T12:49:26.967247",
     "exception": false,
     "start_time": "2021-02-15T12:49:26.927584",
     "status": "completed"
    },
    "tags": []
   },
   "outputs": [
    {
     "name": "stdout",
     "output_type": "stream",
     "text": [
      "[ 1  2  3  4  6  7  8  9 11 12 13 14 16 17 18 19] [ 0  5 10 15]\n",
      "Label [1 2 3 4]\n",
      "\n",
      "[ 0  2  3  4  5  7  8  9 10 12 13 14 15 17 18 19] [ 1  6 11 16]\n",
      "Label [1 2 3 4]\n",
      "\n",
      "[ 0  1  3  4  5  6  8  9 10 11 13 14 15 16 18 19] [ 2  7 12 17]\n",
      "Label [1 2 3 4]\n",
      "\n",
      "[ 0  1  2  4  5  6  7  9 10 11 12 14 15 16 17 19] [ 3  8 13 18]\n",
      "Label [1 2 3 4]\n",
      "\n",
      "[ 0  1  2  3  5  6  7  8 10 11 12 13 15 16 17 18] [ 4  9 14 19]\n",
      "Label [1 2 3 4]\n",
      "\n"
     ]
    }
   ],
   "source": [
    "kf = StratifiedKFold(n_splits=5)\n",
    "for train_idx, test_idx, in kf.split(X, Y):\n",
    "    print(train_idx, test_idx)\n",
    "    print('Label', Y[test_idx])\n",
    "    print('')"
   ]
  },
  {
   "cell_type": "code",
   "execution_count": 8,
   "metadata": {
    "ExecuteTime": {
     "end_time": "2020-08-01T06:21:36.656473Z",
     "start_time": "2020-08-01T06:21:36.643961Z"
    },
    "execution": {
     "iopub.execute_input": "2021-02-15T12:49:27.020602Z",
     "iopub.status.busy": "2021-02-15T12:49:27.018581Z",
     "iopub.status.idle": "2021-02-15T12:49:27.033810Z",
     "shell.execute_reply": "2021-02-15T12:49:27.033146Z"
    },
    "papermill": {
     "duration": 0.04452,
     "end_time": "2021-02-15T12:49:27.033963",
     "exception": false,
     "start_time": "2021-02-15T12:49:26.989443",
     "status": "completed"
    },
    "scrolled": false,
    "tags": []
   },
   "outputs": [
    {
     "name": "stdout",
     "output_type": "stream",
     "text": [
      "[ 0  1  2  4  5  6  7  8 10 11 12 13 15 17 18 19] [ 3  9 14 16]\n",
      "Label [1 2 3 4]\n",
      "\n",
      "[ 0  1  3  4  5  7  8  9 11 12 13 14 15 16 17 18] [ 2  6 10 19]\n",
      "Label [1 2 3 4]\n",
      "\n",
      "[ 0  1  2  3  5  6  7  9 10 11 12 14 15 16 17 19] [ 4  8 13 18]\n",
      "Label [1 2 3 4]\n",
      "\n",
      "[ 0  2  3  4  6  7  8  9 10 11 13 14 16 17 18 19] [ 1  5 12 15]\n",
      "Label [1 2 3 4]\n",
      "\n",
      "[ 1  2  3  4  5  6  8  9 10 12 13 14 15 16 18 19] [ 0  7 11 17]\n",
      "Label [1 2 3 4]\n",
      "\n",
      "[ 0  1  2  4  5  7  8  9 10 11 12 14 15 16 17 18] [ 3  6 13 19]\n",
      "Label [1 2 3 4]\n",
      "\n",
      "[ 1  2  3  4  5  6  7  9 10 11 12 13 15 16 18 19] [ 0  8 14 17]\n",
      "Label [1 2 3 4]\n",
      "\n",
      "[ 0  1  2  3  5  6  8  9 10 12 13 14 15 16 17 19] [ 4  7 11 18]\n",
      "Label [1 2 3 4]\n",
      "\n",
      "[ 0  2  3  4  5  6  7  8 10 11 13 14 16 17 18 19] [ 1  9 12 15]\n",
      "Label [1 2 3 4]\n",
      "\n",
      "[ 0  1  3  4  6  7  8  9 11 12 13 14 15 17 18 19] [ 2  5 10 16]\n",
      "Label [1 2 3 4]\n",
      "\n"
     ]
    }
   ],
   "source": [
    "kf = RepeatedStratifiedKFold(n_splits=5, n_repeats=2)\n",
    "for train_idx, test_idx, in kf.split(X, Y):\n",
    "    print(train_idx, test_idx)\n",
    "    print('Label', Y[test_idx])\n",
    "    print('')"
   ]
  },
  {
   "cell_type": "code",
   "execution_count": 9,
   "metadata": {
    "ExecuteTime": {
     "end_time": "2020-08-01T06:27:15.131958Z",
     "start_time": "2020-08-01T06:27:15.122377Z"
    },
    "execution": {
     "iopub.execute_input": "2021-02-15T12:49:27.090182Z",
     "iopub.status.busy": "2021-02-15T12:49:27.089114Z",
     "iopub.status.idle": "2021-02-15T12:49:27.095305Z",
     "shell.execute_reply": "2021-02-15T12:49:27.094309Z"
    },
    "papermill": {
     "duration": 0.037548,
     "end_time": "2021-02-15T12:49:27.095497",
     "exception": false,
     "start_time": "2021-02-15T12:49:27.057949",
     "status": "completed"
    },
    "tags": []
   },
   "outputs": [
    {
     "name": "stdout",
     "output_type": "stream",
     "text": [
      "[0 1 2 3 4] [5 6 7]\n",
      "Label [2 2 2]\n",
      "\n",
      "[0 1 2 3 4 5 6 7] [ 8  9 10]\n",
      "Label [2 2 3]\n",
      "\n",
      "[ 0  1  2  3  4  5  6  7  8  9 10] [11 12 13]\n",
      "Label [3 3 3]\n",
      "\n",
      "[ 0  1  2  3  4  5  6  7  8  9 10 11 12 13] [14 15 16]\n",
      "Label [3 4 4]\n",
      "\n",
      "[ 0  1  2  3  4  5  6  7  8  9 10 11 12 13 14 15 16] [17 18 19]\n",
      "Label [4 4 4]\n",
      "\n"
     ]
    }
   ],
   "source": [
    "kf = TimeSeriesSplit(n_splits=5)\n",
    "for train_idx, test_idx, in kf.split(X, Y):\n",
    "    print(train_idx, test_idx)\n",
    "    print('Label', Y[test_idx])\n",
    "    print('')"
   ]
  },
  {
   "cell_type": "code",
   "execution_count": 10,
   "metadata": {
    "ExecuteTime": {
     "end_time": "2020-08-01T06:32:41.718036Z",
     "start_time": "2020-08-01T06:32:41.713058Z"
    },
    "execution": {
     "iopub.execute_input": "2021-02-15T12:49:27.174807Z",
     "iopub.status.busy": "2021-02-15T12:49:27.173981Z",
     "iopub.status.idle": "2021-02-15T12:49:27.179692Z",
     "shell.execute_reply": "2021-02-15T12:49:27.178605Z"
    },
    "papermill": {
     "duration": 0.04988,
     "end_time": "2021-02-15T12:49:27.179850",
     "exception": false,
     "start_time": "2021-02-15T12:49:27.129970",
     "status": "completed"
    },
    "tags": []
   },
   "outputs": [
    {
     "name": "stdout",
     "output_type": "stream",
     "text": [
      "[3 1 2 1 1 3 1 4 3 1 3 1 2 3 4 1] [2 2 3 3]\n"
     ]
    }
   ],
   "source": [
    "train_X, train_Y = resample(X, Y, n_samples=16)\n",
    "val_X, val_Y = resample(X, Y, n_samples=4)\n",
    "print(train_Y, val_Y)"
   ]
  },
  {
   "cell_type": "markdown",
   "metadata": {
    "papermill": {
     "duration": 0.027021,
     "end_time": "2021-02-15T12:49:27.235598",
     "exception": false,
     "start_time": "2021-02-15T12:49:27.208577",
     "status": "completed"
    },
    "tags": []
   },
   "source": [
    "# 提取 Two-Sigma比赛特征"
   ]
  },
  {
   "cell_type": "code",
   "execution_count": 11,
   "metadata": {
    "execution": {
     "iopub.execute_input": "2021-02-15T12:49:27.297925Z",
     "iopub.status.busy": "2021-02-15T12:49:27.297190Z",
     "iopub.status.idle": "2021-02-15T12:49:30.641147Z",
     "shell.execute_reply": "2021-02-15T12:49:30.640523Z"
    },
    "papermill": {
     "duration": 3.376496,
     "end_time": "2021-02-15T12:49:30.641278",
     "exception": false,
     "start_time": "2021-02-15T12:49:27.264782",
     "status": "completed"
    },
    "tags": []
   },
   "outputs": [
    {
     "name": "stdout",
     "output_type": "stream",
     "text": [
      "Archive:  ../input/two-sigma-connect-rental-listing-inquiries/train.json.zip\r\n",
      "  inflating: train.json              \r\n",
      "Archive:  ../input/two-sigma-connect-rental-listing-inquiries/test.json.zip\r\n",
      "  inflating: test.json               \r\n"
     ]
    }
   ],
   "source": [
    "! unzip ../input/two-sigma-connect-rental-listing-inquiries/train.json.zip\n",
    "! unzip ../input/two-sigma-connect-rental-listing-inquiries/test.json.zip"
   ]
  },
  {
   "cell_type": "code",
   "execution_count": 12,
   "metadata": {
    "execution": {
     "iopub.execute_input": "2021-02-15T12:49:30.705050Z",
     "iopub.status.busy": "2021-02-15T12:49:30.699480Z",
     "iopub.status.idle": "2021-02-15T12:49:31.431441Z",
     "shell.execute_reply": "2021-02-15T12:49:31.431979Z"
    },
    "papermill": {
     "duration": 0.763675,
     "end_time": "2021-02-15T12:49:31.432149",
     "exception": false,
     "start_time": "2021-02-15T12:49:30.668474",
     "status": "completed"
    },
    "tags": []
   },
   "outputs": [
    {
     "name": "stdout",
     "output_type": "stream",
     "text": [
      "__notebook__.ipynb  test.json  train.json\r\n"
     ]
    }
   ],
   "source": [
    "!ls ./"
   ]
  },
  {
   "cell_type": "code",
   "execution_count": 13,
   "metadata": {
    "ExecuteTime": {
     "end_time": "2020-08-01T07:53:22.272358Z",
     "start_time": "2020-08-01T07:53:19.933897Z"
    },
    "_cell_guid": "e3b81db5-929d-b8b8-141c-1bbb4a5eaaf3",
    "execution": {
     "iopub.execute_input": "2021-02-15T12:49:31.489205Z",
     "iopub.status.busy": "2021-02-15T12:49:31.488086Z",
     "iopub.status.idle": "2021-02-15T12:49:35.999556Z",
     "shell.execute_reply": "2021-02-15T12:49:36.000389Z"
    },
    "papermill": {
     "duration": 4.543261,
     "end_time": "2021-02-15T12:49:36.000553",
     "exception": false,
     "start_time": "2021-02-15T12:49:31.457292",
     "status": "completed"
    },
    "tags": []
   },
   "outputs": [
    {
     "name": "stdout",
     "output_type": "stream",
     "text": [
      "(49352, 15)\n",
      "(74659, 14)\n"
     ]
    }
   ],
   "source": [
    "train_df = pd.read_json('./train.json')\n",
    "test_df = pd.read_json('./test.json')\n",
    "print(train_df.shape)\n",
    "print(test_df.shape)\n",
    "\n",
    "features_to_use  = [\"bathrooms\", \"bedrooms\", \"latitude\", \"longitude\", \"price\", \n",
    "                    \"num_photos\", \"num_features\", \"num_description_words\",\"created_year\", \n",
    "                    \"created_month\", \"created_day\", \"listing_id\", \"created_hour\"]\n",
    "\n",
    "# count of photos #\n",
    "train_df[\"num_photos\"] = train_df[\"photos\"].apply(len)\n",
    "test_df[\"num_photos\"] = test_df[\"photos\"].apply(len)\n",
    "\n",
    "# count of \"features\" #\n",
    "train_df[\"num_features\"] = train_df[\"features\"].apply(len)\n",
    "test_df[\"num_features\"] = test_df[\"features\"].apply(len)\n",
    "\n",
    "# count of words present in description column #\n",
    "train_df[\"num_description_words\"] = train_df[\"description\"].apply(lambda x: len(x.split(\" \")))\n",
    "test_df[\"num_description_words\"] = test_df[\"description\"].apply(lambda x: len(x.split(\" \")))\n",
    "\n",
    "# convert the created column to datetime object so as to extract more features \n",
    "train_df[\"created\"] = pd.to_datetime(train_df[\"created\"])\n",
    "test_df[\"created\"] = pd.to_datetime(test_df[\"created\"])\n",
    "\n",
    "# Let us extract some features like year, month, day, hour from date columns #\n",
    "train_df[\"created_year\"] = train_df[\"created\"].dt.year\n",
    "test_df[\"created_year\"] = test_df[\"created\"].dt.year\n",
    "train_df[\"created_month\"] = train_df[\"created\"].dt.month\n",
    "test_df[\"created_month\"] = test_df[\"created\"].dt.month\n",
    "train_df[\"created_day\"] = train_df[\"created\"].dt.day\n",
    "test_df[\"created_day\"] = test_df[\"created\"].dt.day\n",
    "train_df[\"created_hour\"] = train_df[\"created\"].dt.hour\n",
    "test_df[\"created_hour\"] = test_df[\"created\"].dt.hour"
   ]
  },
  {
   "cell_type": "code",
   "execution_count": 14,
   "metadata": {
    "ExecuteTime": {
     "end_time": "2020-08-01T07:53:23.933091Z",
     "start_time": "2020-08-01T07:53:22.274324Z"
    },
    "_cell_guid": "af410ae2-6197-adce-ee68-360aa59eff7e",
    "execution": {
     "iopub.execute_input": "2021-02-15T12:49:36.057185Z",
     "iopub.status.busy": "2021-02-15T12:49:36.056431Z",
     "iopub.status.idle": "2021-02-15T12:49:38.692182Z",
     "shell.execute_reply": "2021-02-15T12:49:38.692707Z"
    },
    "papermill": {
     "duration": 2.666025,
     "end_time": "2021-02-15T12:49:38.692906",
     "exception": false,
     "start_time": "2021-02-15T12:49:36.026881",
     "status": "completed"
    },
    "tags": []
   },
   "outputs": [],
   "source": [
    "categorical = [\"display_address\", \"manager_id\", \"building_id\", \"street_address\"]\n",
    "for f in categorical:\n",
    "        if train_df[f].dtype=='object':\n",
    "            #print(f)\n",
    "            lbl = preprocessing.LabelEncoder()\n",
    "            lbl.fit(list(train_df[f].values) + list(test_df[f].values))\n",
    "            train_df[f] = lbl.transform(list(train_df[f].values))\n",
    "            test_df[f] = lbl.transform(list(test_df[f].values))\n",
    "            features_to_use.append(f)"
   ]
  },
  {
   "cell_type": "code",
   "execution_count": 15,
   "metadata": {
    "ExecuteTime": {
     "end_time": "2020-08-01T07:53:24.873489Z",
     "start_time": "2020-08-01T07:53:23.935209Z"
    },
    "_cell_guid": "9eeef912-2104-e97e-1948-c246652340e1",
    "execution": {
     "iopub.execute_input": "2021-02-15T12:49:38.750427Z",
     "iopub.status.busy": "2021-02-15T12:49:38.749668Z",
     "iopub.status.idle": "2021-02-15T12:49:40.972422Z",
     "shell.execute_reply": "2021-02-15T12:49:40.971694Z"
    },
    "papermill": {
     "duration": 2.253583,
     "end_time": "2021-02-15T12:49:40.972549",
     "exception": false,
     "start_time": "2021-02-15T12:49:38.718966",
     "status": "completed"
    },
    "tags": []
   },
   "outputs": [
    {
     "name": "stdout",
     "output_type": "stream",
     "text": [
      "4     Dining_Room Pre-War Laundry_in_Building Dishwa...\n",
      "6     Doorman Elevator Laundry_in_Building Dishwashe...\n",
      "9     Doorman Elevator Laundry_in_Building Laundry_i...\n",
      "10                                                     \n",
      "15    Doorman Elevator Fitness_Center Laundry_in_Bui...\n",
      "Name: features, dtype: object\n",
      "(49352, 217) (74659, 217)\n"
     ]
    }
   ],
   "source": [
    "train_df['features'] = train_df[\"features\"].apply(lambda x: \" \".join([\"_\".join(i.split(\" \")) for i in x]))\n",
    "test_df['features'] = test_df[\"features\"].apply(lambda x: \" \".join([\"_\".join(i.split(\" \")) for i in x]))\n",
    "print(train_df[\"features\"].head())\n",
    "tfidf = CountVectorizer(stop_words='english', max_features=200)\n",
    "tr_sparse = tfidf.fit_transform(train_df[\"features\"])\n",
    "te_sparse = tfidf.transform(test_df[\"features\"])\n",
    "\n",
    "train_X = sparse.hstack([train_df[features_to_use], tr_sparse]).tocsr()\n",
    "test_X = sparse.hstack([test_df[features_to_use], te_sparse]).tocsr()\n",
    "\n",
    "target_num_map = {'high':0, 'medium':1, 'low':2}\n",
    "train_y = np.array(train_df['interest_level'].apply(lambda x: target_num_map[x]))\n",
    "print(train_X.shape, test_X.shape)"
   ]
  },
  {
   "cell_type": "code",
   "execution_count": 16,
   "metadata": {
    "ExecuteTime": {
     "end_time": "2020-08-01T07:53:26.643014Z",
     "start_time": "2020-08-01T07:53:26.639246Z"
    },
    "execution": {
     "iopub.execute_input": "2021-02-15T12:49:41.032691Z",
     "iopub.status.busy": "2021-02-15T12:49:41.031829Z",
     "iopub.status.idle": "2021-02-15T12:49:41.424702Z",
     "shell.execute_reply": "2021-02-15T12:49:41.423804Z"
    },
    "papermill": {
     "duration": 0.425351,
     "end_time": "2021-02-15T12:49:41.424838",
     "exception": false,
     "start_time": "2021-02-15T12:49:40.999487",
     "status": "completed"
    },
    "scrolled": true,
    "tags": []
   },
   "outputs": [],
   "source": [
    "from warnings import filterwarnings\n",
    "filterwarnings('ignore')\n",
    "\n",
    "from sklearn.linear_model import LogisticRegression\n",
    "from sklearn.ensemble import RandomForestClassifier\n",
    "from lightgbm import LGBMClassifier\n",
    "from xgboost import XGBClassifier\n",
    "\n",
    "from sklearn.preprocessing import StandardScaler"
   ]
  },
  {
   "cell_type": "code",
   "execution_count": 17,
   "metadata": {
    "ExecuteTime": {
     "end_time": "2020-08-01T07:57:41.313694Z",
     "start_time": "2020-08-01T07:57:41.308976Z"
    },
    "execution": {
     "iopub.execute_input": "2021-02-15T12:49:41.485610Z",
     "iopub.status.busy": "2021-02-15T12:49:41.484686Z",
     "iopub.status.idle": "2021-02-15T12:49:41.487754Z",
     "shell.execute_reply": "2021-02-15T12:49:41.487108Z"
    },
    "papermill": {
     "duration": 0.036109,
     "end_time": "2021-02-15T12:49:41.487904",
     "exception": false,
     "start_time": "2021-02-15T12:49:41.451795",
     "status": "completed"
    },
    "tags": []
   },
   "outputs": [],
   "source": [
    "clf = LogisticRegression()\n",
    "clf = RandomForestClassifier()\n",
    "clf = LGBMClassifier()\n",
    "# clf = XGBClassifier()"
   ]
  },
  {
   "cell_type": "code",
   "execution_count": 18,
   "metadata": {
    "ExecuteTime": {
     "end_time": "2020-08-01T07:06:22.560368Z",
     "start_time": "2020-08-01T07:05:39.522671Z"
    },
    "execution": {
     "iopub.execute_input": "2021-02-15T12:49:41.557116Z",
     "iopub.status.busy": "2021-02-15T12:49:41.556387Z",
     "iopub.status.idle": "2021-02-15T12:49:51.791247Z",
     "shell.execute_reply": "2021-02-15T12:49:51.792423Z"
    },
    "papermill": {
     "duration": 10.277877,
     "end_time": "2021-02-15T12:49:51.792607",
     "exception": false,
     "start_time": "2021-02-15T12:49:41.514730",
     "status": "completed"
    },
    "tags": []
   },
   "outputs": [
    {
     "name": "stdout",
     "output_type": "stream",
     "text": [
      "[ 9769  9770  9771 ... 49349 49350 49351] [    0     1     2 ... 10177 10178 10181]\n",
      "Val loss 0.5745569344795427\n",
      "[    0     1     2 ... 49349 49350 49351] [ 9769  9770  9771 ... 20092 20093 20097]\n",
      "Val loss 0.5766758820502259\n",
      "[    0     1     2 ... 49349 49350 49351] [19604 19605 19607 ... 29807 29812 29816]\n",
      "Val loss 0.5743822676079222\n",
      "[    0     1     2 ... 49349 49350 49351] [29539 29544 29545 ... 39547 39563 39568]\n",
      "Val loss 0.5817049980112237\n",
      "[    0     1     2 ... 39547 39563 39568] [38968 38978 38994 ... 49349 49350 49351]\n",
      "Val loss 0.5864974205079067\n"
     ]
    }
   ],
   "source": [
    "# 这写了一个bug，你能改好吗？\n",
    "train_X = StandardScaler().fit_transform(train_df[features_to_use])\n",
    "test_X = StandardScaler().fit_transform(test_df[features_to_use])\n",
    "\n",
    "kf = StratifiedKFold(n_splits=5)\n",
    "test_pred = None\n",
    "for train_idx, test_idx, in kf.split(train_X, train_df['interest_level']):\n",
    "    \n",
    "    print(train_idx, test_idx)\n",
    "    clf.fit(train_X[train_idx], train_y[train_idx])\n",
    "    print('Val loss', log_loss(train_y[test_idx], \n",
    "                   clf.predict_proba(train_X[test_idx])))\n",
    "    \n",
    "    if test_pred is None:\n",
    "        test_pred = clf.predict_proba(test_X)\n",
    "    else:\n",
    "        test_pred += clf.predict_proba(test_X)\n",
    "\n",
    "test_pred /= 5"
   ]
  },
  {
   "cell_type": "code",
   "execution_count": 19,
   "metadata": {
    "ExecuteTime": {
     "end_time": "2020-08-01T08:03:42.145055Z",
     "start_time": "2020-08-01T08:03:00.504025Z"
    },
    "execution": {
     "iopub.execute_input": "2021-02-15T12:49:51.892090Z",
     "iopub.status.busy": "2021-02-15T12:49:51.891245Z",
     "iopub.status.idle": "2021-02-15T12:50:02.071222Z",
     "shell.execute_reply": "2021-02-15T12:50:02.072409Z"
    },
    "papermill": {
     "duration": 10.239805,
     "end_time": "2021-02-15T12:50:02.072600",
     "exception": false,
     "start_time": "2021-02-15T12:49:51.832795",
     "status": "completed"
    },
    "scrolled": true,
    "tags": []
   },
   "outputs": [
    {
     "name": "stdout",
     "output_type": "stream",
     "text": [
      "[ 9769  9770  9771 ... 49349 49350 49351] [    0     1     2 ... 10177 10178 10181]\n",
      "Val loss 0.5750199591295473\n",
      "[    0     1     2 ... 49349 49350 49351] [ 9769  9770  9771 ... 20092 20093 20097]\n",
      "Val loss 0.5766117192874167\n",
      "[    0     1     2 ... 49349 49350 49351] [19604 19605 19607 ... 29807 29812 29816]\n",
      "Val loss 0.5747959956995047\n",
      "[    0     1     2 ... 49349 49350 49351] [29539 29544 29545 ... 39547 39563 39568]\n",
      "Val loss 0.5808522198361222\n",
      "[    0     1     2 ... 39547 39563 39568] [38968 38978 38994 ... 49349 49350 49351]\n",
      "Val loss 0.5865867909178608\n"
     ]
    }
   ],
   "source": [
    "train_X = train_df[features_to_use].values\n",
    "test_X = test_df[features_to_use].values\n",
    "\n",
    "kf = StratifiedKFold(n_splits=5)\n",
    "test_pred = None\n",
    "for train_idx, test_idx, in kf.split(train_X, train_df['interest_level']):\n",
    "    \n",
    "    print(train_idx, test_idx)\n",
    "    clf.fit(train_X[train_idx], train_y[train_idx])\n",
    "    print('Val loss', log_loss(train_y[test_idx], \n",
    "                   clf.predict_proba(train_X[test_idx])))\n",
    "    \n",
    "    if test_pred is None:\n",
    "        test_pred = clf.predict_proba(test_X)\n",
    "    else:\n",
    "        test_pred += clf.predict_proba(test_X)\n",
    "\n",
    "test_pred /= 5"
   ]
  },
  {
   "cell_type": "code",
   "execution_count": 20,
   "metadata": {
    "ExecuteTime": {
     "end_time": "2020-08-01T08:06:07.457438Z",
     "start_time": "2020-08-01T08:05:09.9046Z"
    },
    "execution": {
     "iopub.execute_input": "2021-02-15T12:50:02.176280Z",
     "iopub.status.busy": "2021-02-15T12:50:02.174993Z",
     "iopub.status.idle": "2021-02-15T12:51:35.091097Z",
     "shell.execute_reply": "2021-02-15T12:51:35.092072Z"
    },
    "papermill": {
     "duration": 92.97505,
     "end_time": "2021-02-15T12:51:35.092301",
     "exception": false,
     "start_time": "2021-02-15T12:50:02.117251",
     "status": "completed"
    },
    "scrolled": true,
    "tags": []
   },
   "outputs": [
    {
     "name": "stdout",
     "output_type": "stream",
     "text": [
      "[ 9769  9770  9771 ... 49349 49350 49351] [    0     1     2 ... 10177 10178 10181]\n",
      "Training until validation scores don't improve for 50 rounds\n",
      "[50]\tvalid_0's multi_logloss: 0.618601\tvalid_1's multi_logloss: 0.618601\n",
      "[100]\tvalid_0's multi_logloss: 0.591652\tvalid_1's multi_logloss: 0.591652\n",
      "[150]\tvalid_0's multi_logloss: 0.580064\tvalid_1's multi_logloss: 0.580064\n",
      "[200]\tvalid_0's multi_logloss: 0.574176\tvalid_1's multi_logloss: 0.574176\n",
      "[250]\tvalid_0's multi_logloss: 0.570872\tvalid_1's multi_logloss: 0.570872\n",
      "[300]\tvalid_0's multi_logloss: 0.568752\tvalid_1's multi_logloss: 0.568752\n",
      "[350]\tvalid_0's multi_logloss: 0.567441\tvalid_1's multi_logloss: 0.567441\n",
      "[400]\tvalid_0's multi_logloss: 0.566707\tvalid_1's multi_logloss: 0.566707\n",
      "[450]\tvalid_0's multi_logloss: 0.566147\tvalid_1's multi_logloss: 0.566147\n",
      "[500]\tvalid_0's multi_logloss: 0.565949\tvalid_1's multi_logloss: 0.565949\n",
      "[550]\tvalid_0's multi_logloss: 0.565372\tvalid_1's multi_logloss: 0.565372\n",
      "[600]\tvalid_0's multi_logloss: 0.564999\tvalid_1's multi_logloss: 0.564999\n",
      "[650]\tvalid_0's multi_logloss: 0.565078\tvalid_1's multi_logloss: 0.565078\n",
      "Early stopping, best iteration is:\n",
      "[605]\tvalid_0's multi_logloss: 0.564947\tvalid_1's multi_logloss: 0.564947\n",
      "Val loss 0.5649467002118786\n",
      "[    0     1     2 ... 49349 49350 49351] [ 9769  9770  9771 ... 20092 20093 20097]\n",
      "Training until validation scores don't improve for 50 rounds\n",
      "[50]\tvalid_0's multi_logloss: 0.620109\tvalid_1's multi_logloss: 0.620109\n",
      "[100]\tvalid_0's multi_logloss: 0.593865\tvalid_1's multi_logloss: 0.593865\n",
      "[150]\tvalid_0's multi_logloss: 0.582604\tvalid_1's multi_logloss: 0.582604\n",
      "[200]\tvalid_0's multi_logloss: 0.576891\tvalid_1's multi_logloss: 0.576891\n",
      "[250]\tvalid_0's multi_logloss: 0.5731\tvalid_1's multi_logloss: 0.5731\n",
      "[300]\tvalid_0's multi_logloss: 0.570042\tvalid_1's multi_logloss: 0.570042\n",
      "[350]\tvalid_0's multi_logloss: 0.568389\tvalid_1's multi_logloss: 0.568389\n",
      "[400]\tvalid_0's multi_logloss: 0.567297\tvalid_1's multi_logloss: 0.567297\n",
      "[450]\tvalid_0's multi_logloss: 0.566462\tvalid_1's multi_logloss: 0.566462\n",
      "[500]\tvalid_0's multi_logloss: 0.566341\tvalid_1's multi_logloss: 0.566341\n",
      "[550]\tvalid_0's multi_logloss: 0.565915\tvalid_1's multi_logloss: 0.565915\n",
      "[600]\tvalid_0's multi_logloss: 0.565749\tvalid_1's multi_logloss: 0.565749\n",
      "[650]\tvalid_0's multi_logloss: 0.565586\tvalid_1's multi_logloss: 0.565586\n",
      "[700]\tvalid_0's multi_logloss: 0.565352\tvalid_1's multi_logloss: 0.565352\n",
      "[750]\tvalid_0's multi_logloss: 0.565302\tvalid_1's multi_logloss: 0.565302\n",
      "Early stopping, best iteration is:\n",
      "[719]\tvalid_0's multi_logloss: 0.565185\tvalid_1's multi_logloss: 0.565185\n",
      "Val loss 0.565185394413581\n",
      "[    0     1     2 ... 49349 49350 49351] [19604 19605 19607 ... 29807 29812 29816]\n",
      "Training until validation scores don't improve for 50 rounds\n",
      "[50]\tvalid_0's multi_logloss: 0.616457\tvalid_1's multi_logloss: 0.616457\n",
      "[100]\tvalid_0's multi_logloss: 0.591179\tvalid_1's multi_logloss: 0.591179\n",
      "[150]\tvalid_0's multi_logloss: 0.580406\tvalid_1's multi_logloss: 0.580406\n",
      "[200]\tvalid_0's multi_logloss: 0.574697\tvalid_1's multi_logloss: 0.574697\n",
      "[250]\tvalid_0's multi_logloss: 0.571637\tvalid_1's multi_logloss: 0.571637\n",
      "[300]\tvalid_0's multi_logloss: 0.569503\tvalid_1's multi_logloss: 0.569503\n",
      "[350]\tvalid_0's multi_logloss: 0.567786\tvalid_1's multi_logloss: 0.567786\n",
      "[400]\tvalid_0's multi_logloss: 0.566961\tvalid_1's multi_logloss: 0.566961\n",
      "[450]\tvalid_0's multi_logloss: 0.566119\tvalid_1's multi_logloss: 0.566119\n",
      "[500]\tvalid_0's multi_logloss: 0.565543\tvalid_1's multi_logloss: 0.565543\n",
      "[550]\tvalid_0's multi_logloss: 0.56512\tvalid_1's multi_logloss: 0.56512\n",
      "[600]\tvalid_0's multi_logloss: 0.564704\tvalid_1's multi_logloss: 0.564704\n",
      "[650]\tvalid_0's multi_logloss: 0.564711\tvalid_1's multi_logloss: 0.564711\n",
      "[700]\tvalid_0's multi_logloss: 0.564529\tvalid_1's multi_logloss: 0.564529\n",
      "Early stopping, best iteration is:\n",
      "[699]\tvalid_0's multi_logloss: 0.564476\tvalid_1's multi_logloss: 0.564476\n",
      "Val loss 0.5644759581579891\n",
      "[    0     1     2 ... 49349 49350 49351] [29539 29544 29545 ... 39547 39563 39568]\n",
      "Training until validation scores don't improve for 50 rounds\n",
      "[50]\tvalid_0's multi_logloss: 0.622716\tvalid_1's multi_logloss: 0.622716\n",
      "[100]\tvalid_0's multi_logloss: 0.597343\tvalid_1's multi_logloss: 0.597343\n",
      "[150]\tvalid_0's multi_logloss: 0.586689\tvalid_1's multi_logloss: 0.586689\n",
      "[200]\tvalid_0's multi_logloss: 0.580881\tvalid_1's multi_logloss: 0.580881\n",
      "[250]\tvalid_0's multi_logloss: 0.577743\tvalid_1's multi_logloss: 0.577743\n",
      "[300]\tvalid_0's multi_logloss: 0.575275\tvalid_1's multi_logloss: 0.575275\n",
      "[350]\tvalid_0's multi_logloss: 0.573561\tvalid_1's multi_logloss: 0.573561\n",
      "[400]\tvalid_0's multi_logloss: 0.572202\tvalid_1's multi_logloss: 0.572202\n",
      "[450]\tvalid_0's multi_logloss: 0.571414\tvalid_1's multi_logloss: 0.571414\n",
      "[500]\tvalid_0's multi_logloss: 0.570922\tvalid_1's multi_logloss: 0.570922\n",
      "[550]\tvalid_0's multi_logloss: 0.570378\tvalid_1's multi_logloss: 0.570378\n",
      "[600]\tvalid_0's multi_logloss: 0.570022\tvalid_1's multi_logloss: 0.570022\n",
      "[650]\tvalid_0's multi_logloss: 0.569949\tvalid_1's multi_logloss: 0.569949\n",
      "Early stopping, best iteration is:\n",
      "[612]\tvalid_0's multi_logloss: 0.569766\tvalid_1's multi_logloss: 0.569766\n",
      "Val loss 0.5697659744266913\n",
      "[    0     1     2 ... 39547 39563 39568] [38968 38978 38994 ... 49349 49350 49351]\n",
      "Training until validation scores don't improve for 50 rounds\n",
      "[50]\tvalid_0's multi_logloss: 0.628257\tvalid_1's multi_logloss: 0.628257\n",
      "[100]\tvalid_0's multi_logloss: 0.603517\tvalid_1's multi_logloss: 0.603517\n",
      "[150]\tvalid_0's multi_logloss: 0.592792\tvalid_1's multi_logloss: 0.592792\n",
      "[200]\tvalid_0's multi_logloss: 0.58606\tvalid_1's multi_logloss: 0.58606\n",
      "[250]\tvalid_0's multi_logloss: 0.58246\tvalid_1's multi_logloss: 0.58246\n",
      "[300]\tvalid_0's multi_logloss: 0.580388\tvalid_1's multi_logloss: 0.580388\n",
      "[350]\tvalid_0's multi_logloss: 0.579391\tvalid_1's multi_logloss: 0.579391\n",
      "[400]\tvalid_0's multi_logloss: 0.578099\tvalid_1's multi_logloss: 0.578099\n",
      "[450]\tvalid_0's multi_logloss: 0.577394\tvalid_1's multi_logloss: 0.577394\n",
      "[500]\tvalid_0's multi_logloss: 0.576767\tvalid_1's multi_logloss: 0.576767\n",
      "[550]\tvalid_0's multi_logloss: 0.576555\tvalid_1's multi_logloss: 0.576555\n",
      "[600]\tvalid_0's multi_logloss: 0.576572\tvalid_1's multi_logloss: 0.576572\n",
      "Early stopping, best iteration is:\n",
      "[580]\tvalid_0's multi_logloss: 0.576363\tvalid_1's multi_logloss: 0.576363\n",
      "Val loss 0.5763634935532745\n"
     ]
    }
   ],
   "source": [
    "# lightGBM\n",
    "clf = LGBMClassifier(learning_rate=0.05, n_estimators=2000, n_jobs=2)\n",
    "\n",
    "train_X = train_df[features_to_use].values\n",
    "test_X = test_df[features_to_use].values\n",
    "\n",
    "kf = StratifiedKFold(n_splits=5)\n",
    "test_pred = None\n",
    "for train_idx, test_idx, in kf.split(train_X, train_df['interest_level']):\n",
    "    \n",
    "    print(train_idx, test_idx)\n",
    "    clf.fit(train_X[train_idx], train_y[train_idx], \n",
    "            eval_set=[(train_X[test_idx], train_y[test_idx]), (train_X[test_idx], train_y[test_idx])],\n",
    "           verbose=50, early_stopping_rounds=50)\n",
    "    print('Val loss', log_loss(train_y[test_idx], \n",
    "                   clf.predict_proba(train_X[test_idx])))\n",
    "    \n",
    "    if test_pred is None:\n",
    "        test_pred = clf.predict_proba(test_X)\n",
    "    else:\n",
    "        test_pred += clf.predict_proba(test_X)\n",
    "\n",
    "test_pred /= 5"
   ]
  },
  {
   "cell_type": "code",
   "execution_count": 21,
   "metadata": {
    "ExecuteTime": {
     "end_time": "2020-08-01T08:06:09.967884Z",
     "start_time": "2020-08-01T08:06:09.636119Z"
    },
    "execution": {
     "iopub.execute_input": "2021-02-15T12:51:35.251630Z",
     "iopub.status.busy": "2021-02-15T12:51:35.250466Z",
     "iopub.status.idle": "2021-02-15T12:51:35.962532Z",
     "shell.execute_reply": "2021-02-15T12:51:35.961921Z"
    },
    "papermill": {
     "duration": 0.784705,
     "end_time": "2021-02-15T12:51:35.962666",
     "exception": false,
     "start_time": "2021-02-15T12:51:35.177961",
     "status": "completed"
    },
    "tags": []
   },
   "outputs": [],
   "source": [
    "out_df = pd.DataFrame(test_pred)\n",
    "out_df.columns = [\"high\", \"medium\", \"low\"]\n",
    "out_df[\"listing_id\"] = test_df.listing_id.values\n",
    "out_df.to_csv(\"xgb_starter2.csv\", index=False)"
   ]
  },
  {
   "cell_type": "markdown",
   "metadata": {
    "papermill": {
     "duration": 0.061821,
     "end_time": "2021-02-15T12:51:36.086280",
     "exception": false,
     "start_time": "2021-02-15T12:51:36.024459",
     "status": "completed"
    },
    "tags": []
   },
   "source": [
    "# 参数搜索"
   ]
  },
  {
   "cell_type": "code",
   "execution_count": 22,
   "metadata": {
    "ExecuteTime": {
     "end_time": "2020-08-01T07:24:07.308248Z",
     "start_time": "2020-08-01T07:24:07.296294Z"
    },
    "execution": {
     "iopub.execute_input": "2021-02-15T12:51:36.224591Z",
     "iopub.status.busy": "2021-02-15T12:51:36.223827Z",
     "iopub.status.idle": "2021-02-15T12:51:36.290679Z",
     "shell.execute_reply": "2021-02-15T12:51:36.290044Z"
    },
    "papermill": {
     "duration": 0.143452,
     "end_time": "2021-02-15T12:51:36.290817",
     "exception": false,
     "start_time": "2021-02-15T12:51:36.147365",
     "status": "completed"
    },
    "tags": []
   },
   "outputs": [],
   "source": [
    "LGBMClassifier?"
   ]
  },
  {
   "cell_type": "code",
   "execution_count": 23,
   "metadata": {
    "ExecuteTime": {
     "end_time": "2020-08-01T07:43:43.439604Z",
     "start_time": "2020-08-01T07:43:03.509411Z"
    },
    "execution": {
     "iopub.execute_input": "2021-02-15T12:51:36.426496Z",
     "iopub.status.busy": "2021-02-15T12:51:36.425774Z",
     "iopub.status.idle": "2021-02-15T12:54:08.828127Z",
     "shell.execute_reply": "2021-02-15T12:54:08.828752Z"
    },
    "papermill": {
     "duration": 152.477524,
     "end_time": "2021-02-15T12:54:08.828944",
     "exception": false,
     "start_time": "2021-02-15T12:51:36.351420",
     "status": "completed"
    },
    "scrolled": true,
    "tags": []
   },
   "outputs": [
    {
     "data": {
      "text/plain": [
       "GridSearchCV(cv=5, estimator=LGBMClassifier(), n_jobs=6,\n",
       "             param_grid={'min_child_samples': (5, 10, 15),\n",
       "                         'num_leaves': (4, 8, 16, 32),\n",
       "                         'subsample': (0.75, 0.85, 0.95)},\n",
       "             scoring=<function my_scorer at 0x7f9fcf36e3b0>)"
      ]
     },
     "execution_count": 23,
     "metadata": {},
     "output_type": "execute_result"
    }
   ],
   "source": [
    "from sklearn.metrics import make_scorer\n",
    "def my_scorer(clf, X, y_true):\n",
    "    class_labels = clf.classes_\n",
    "    y_pred_proba = clf.predict_proba(X)\n",
    "    return log_loss(y_true, y_pred_proba)\n",
    "\n",
    "from sklearn.model_selection import GridSearchCV\n",
    "parameters = {\n",
    "    'num_leaves':( 4, 8, 16, 32), \n",
    "    'subsample':(0.75, 0.85, 0.95),\n",
    "    'min_child_samples': (5, 10, 15)\n",
    "}\n",
    "\n",
    "clf = GridSearchCV(LGBMClassifier(), param_grid=parameters, n_jobs=6, scoring=my_scorer, cv=5)\n",
    "clf.fit(train_X, train_y)"
   ]
  },
  {
   "cell_type": "code",
   "execution_count": 24,
   "metadata": {
    "ExecuteTime": {
     "end_time": "2020-08-01T07:49:02.359596Z",
     "start_time": "2020-08-01T07:48:35.359757Z"
    },
    "execution": {
     "iopub.execute_input": "2021-02-15T12:54:08.956310Z",
     "iopub.status.busy": "2021-02-15T12:54:08.955274Z",
     "iopub.status.idle": "2021-02-15T12:55:49.897815Z",
     "shell.execute_reply": "2021-02-15T12:55:49.898433Z"
    },
    "papermill": {
     "duration": 101.008462,
     "end_time": "2021-02-15T12:55:49.898600",
     "exception": false,
     "start_time": "2021-02-15T12:54:08.890138",
     "status": "completed"
    },
    "tags": []
   },
   "outputs": [
    {
     "data": {
      "text/plain": [
       "GridSearchCV(cv=StratifiedKFold(n_splits=5, random_state=None, shuffle=False),\n",
       "             estimator=LGBMClassifier(), n_jobs=6,\n",
       "             param_grid={'min_child_samples': (5, 10, 15),\n",
       "                         'num_leaves': (4, 8, 16, 32), 'subsample': [0.75, 1]},\n",
       "             scoring=<function my_scorer at 0x7f9fcf5de5f0>)"
      ]
     },
     "execution_count": 24,
     "metadata": {},
     "output_type": "execute_result"
    }
   ],
   "source": [
    "from sklearn.metrics import make_scorer\n",
    "def my_scorer(clf, X, y_true):\n",
    "    class_labels = clf.classes_\n",
    "    y_pred_proba = clf.predict_proba(X)\n",
    "    return log_loss(y_true, y_pred_proba)\n",
    "\n",
    "from sklearn.model_selection import RandomizedSearchCV\n",
    "parameters = {\n",
    "    'num_leaves':( 4, 8, 16, 32), \n",
    "    'subsample':[0.75, 1],\n",
    "    'min_child_samples': (5, 10, 15)\n",
    "}\n",
    "\n",
    "clf = GridSearchCV(LGBMClassifier(), param_grid=parameters, \n",
    "                   n_jobs=6, scoring=my_scorer, cv=StratifiedKFold(n_splits=5))\n",
    "clf.fit(train_X, train_y)"
   ]
  },
  {
   "cell_type": "markdown",
   "metadata": {
    "papermill": {
     "duration": 0.06284,
     "end_time": "2021-02-15T12:55:50.024003",
     "exception": false,
     "start_time": "2021-02-15T12:55:49.961163",
     "status": "completed"
    },
    "tags": []
   },
   "source": [
    "# 阅读链接\n",
    "\n",
    "- https://scikit-learn.org/stable/modules/generated/sklearn.model_selection.GridSearchCV.html\n",
    "- https://lightgbm.readthedocs.io/en/latest/Python-API.html\n",
    "- https://xgboost.readthedocs.io/en/latest//python/index.html\n",
    "\n",
    "\n",
    "- https://github.com/fmfn/BayesianOptimization"
   ]
  }
 ],
 "metadata": {
  "kernelspec": {
   "display_name": "Python 3",
   "language": "python",
   "name": "python3"
  },
  "language_info": {
   "codemirror_mode": {
    "name": "ipython",
    "version": 3
   },
   "file_extension": ".py",
   "mimetype": "text/x-python",
   "name": "python",
   "nbconvert_exporter": "python",
   "pygments_lexer": "ipython3",
   "version": "3.7.6"
  },
  "papermill": {
   "duration": 390.724002,
   "end_time": "2021-02-15T12:55:50.209286",
   "environment_variables": {},
   "exception": null,
   "input_path": "__notebook__.ipynb",
   "output_path": "__notebook__.ipynb",
   "parameters": {},
   "start_time": "2021-02-15T12:49:19.485284",
   "version": "2.1.0"
  }
 },
 "nbformat": 4,
 "nbformat_minor": 4
}
